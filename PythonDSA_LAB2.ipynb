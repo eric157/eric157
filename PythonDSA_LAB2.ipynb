{
  "nbformat": 4,
  "nbformat_minor": 0,
  "metadata": {
    "colab": {
      "provenance": [],
      "authorship_tag": "ABX9TyNz14tiqNlziMvlYmj8VeFV",
      "include_colab_link": true
    },
    "kernelspec": {
      "name": "python3",
      "display_name": "Python 3"
    },
    "language_info": {
      "name": "python"
    }
  },
  "cells": [
    {
      "cell_type": "markdown",
      "metadata": {
        "id": "view-in-github",
        "colab_type": "text"
      },
      "source": [
        "<a href=\"https://colab.research.google.com/github/eric157/eric157/blob/main/PythonDSA_LAB2.ipynb\" target=\"_parent\"><img src=\"https://colab.research.google.com/assets/colab-badge.svg\" alt=\"Open In Colab\"/></a>"
      ]
    },
    {
      "cell_type": "markdown",
      "source": [
        "**Q1**"
      ],
      "metadata": {
        "id": "xIe7QSHmICuX"
      }
    },
    {
      "cell_type": "code",
      "source": [
        "def convert_to_fahrenheit():\n",
        "    global current_temperature\n",
        "    current_temperature = (current_temperature * 9/5) + 32\n",
        "def set_temperature(temp):\n",
        "    global current_temperature\n",
        "    current_temperature = temp\n",
        "\n",
        "current_temperature = 32\n",
        "print(current_temperature)\n",
        "\n",
        "convert_to_fahrenheit()\n",
        "print(current_temperature)\n",
        "\n",
        "set_temperature(100)\n",
        "print(current_temperature)\n",
        "\n",
        "convert_to_fahrenheit()\n",
        "print(current_temperature)"
      ],
      "metadata": {
        "id": "crgMUasGEDpS",
        "colab": {
          "base_uri": "https://localhost:8080/"
        },
        "outputId": "64781d1a-36cb-4ee0-c5d8-9def178b19b6"
      },
      "execution_count": 1,
      "outputs": [
        {
          "output_type": "stream",
          "name": "stdout",
          "text": [
            "32\n",
            "89.6\n",
            "100\n",
            "212.0\n"
          ]
        }
      ]
    },
    {
      "cell_type": "markdown",
      "source": [
        "**Q2**"
      ],
      "metadata": {
        "id": "0MceMB3bIHIc"
      }
    },
    {
      "cell_type": "code",
      "source": [
        "import copy\n",
        "students = [\n",
        "  {'name': 'Eric', 'grades': {'math': 90, 'science': 85}},\n",
        "  {'name': 'Erron', 'grades': {'math': 78, 'science': 92}}\n",
        "]\n",
        "company = {\n",
        "  'Data Science ': {'manager': 'Kelvi', 'employees': ['Jayesh', 'Aarushi']},\n",
        "  'IT': {'manager': 'Darshita', 'employees': ['Jaymin', 'Kashish']}\n",
        "}\n",
        "shallow_copy_students = copy.copy(students)\n",
        "deep_copy_company = copy.deepcopy(company)\n",
        "shallow_copy_students[0]['grades']['math'] = 95\n",
        "deep_copy_company['IT']['employees'].append('Malhar')\n",
        "\n",
        "print(\"Original students:\", students)\n",
        "print(\"Shallow copy students:\", shallow_copy_students)\n",
        "print(\"Original company:\", company)\n",
        "print(\"Deep copy company:\", deep_copy_company)"
      ],
      "metadata": {
        "id": "ZrB6_hNYMmtt",
        "colab": {
          "base_uri": "https://localhost:8080/"
        },
        "outputId": "78ae9cf7-5bf4-4f0a-cd52-52f57a9e7e0c"
      },
      "execution_count": 2,
      "outputs": [
        {
          "output_type": "stream",
          "name": "stdout",
          "text": [
            "Original students: [{'name': 'Eric', 'grades': {'math': 95, 'science': 85}}, {'name': 'Erron', 'grades': {'math': 78, 'science': 92}}]\n",
            "Shallow copy students: [{'name': 'Eric', 'grades': {'math': 95, 'science': 85}}, {'name': 'Erron', 'grades': {'math': 78, 'science': 92}}]\n",
            "Original company: {'Data Science ': {'manager': 'Kelvi', 'employees': ['Jayesh', 'Aarushi']}, 'IT': {'manager': 'Darshita', 'employees': ['Jaymin', 'Kashish']}}\n",
            "Deep copy company: {'Data Science ': {'manager': 'Kelvi', 'employees': ['Jayesh', 'Aarushi']}, 'IT': {'manager': 'Darshita', 'employees': ['Jaymin', 'Kashish', 'Malhar']}}\n"
          ]
        }
      ]
    },
    {
      "cell_type": "markdown",
      "source": [
        "**Q3**"
      ],
      "metadata": {
        "id": "GwhrI3U7IIhW"
      }
    },
    {
      "cell_type": "code",
      "source": [
        "transactions = [\n",
        "  {'item': 'Shirt', 'price': 25, 'quantity': 2},\n",
        "  {'item': 'Pants', 'price': 50, 'quantity': 1},\n",
        "  {'item': 'Shoes', 'price': 100, 'quantity': 1}\n",
        "]\n",
        "\n",
        "calculate_total = lambda transaction: transaction['price'] * transaction['quantity']\n",
        "total_amounts = list(map(calculate_total, transactions))\n",
        "\n",
        "print(total_amounts)"
      ],
      "metadata": {
        "colab": {
          "base_uri": "https://localhost:8080/"
        },
        "id": "BV6YzxwvVNAs",
        "outputId": "d61a57db-0221-4e34-957c-fa29f253af67"
      },
      "execution_count": 3,
      "outputs": [
        {
          "output_type": "stream",
          "name": "stdout",
          "text": [
            "[50, 50, 100]\n"
          ]
        }
      ]
    },
    {
      "cell_type": "markdown",
      "source": [
        "**Q4**"
      ],
      "metadata": {
        "id": "8TOzeHVqIKga"
      }
    },
    {
      "cell_type": "code",
      "source": [
        "def generate_report(name, **kwargs):\n",
        "  report = f\"Report for {name}:\\n\"\n",
        "  for subject, grade in kwargs.items():\n",
        "    report += f\"{subject}: {grade}\\n\"\n",
        "  return report\n",
        "\n",
        "print(generate_report(\"Eric\", math=90, science=85))"
      ],
      "metadata": {
        "colab": {
          "base_uri": "https://localhost:8080/"
        },
        "id": "pfmAUAAqFjhl",
        "outputId": "3ec90cb3-a5ae-481f-c5ff-4dfea83e9173"
      },
      "execution_count": 4,
      "outputs": [
        {
          "output_type": "stream",
          "name": "stdout",
          "text": [
            "Report for Eric:\n",
            "math: 90\n",
            "science: 85\n",
            "\n"
          ]
        }
      ]
    },
    {
      "cell_type": "markdown",
      "source": [
        "**Q5**"
      ],
      "metadata": {
        "id": "Lu2N_5FPIMzY"
      }
    },
    {
      "cell_type": "code",
      "source": [
        "\n",
        "class Account:\n",
        "  def __init__(self, account_number, balance):\n",
        "    self.account_number = account_number\n",
        "    self.balance = balance\n",
        "\n",
        "  def deposit(self, amount):\n",
        "    self.balance += amount\n",
        "\n",
        "  def withdraw(self, amount):\n",
        "    if self.balance >= amount:\n",
        "      self.balance -= amount\n",
        "    else:\n",
        "      print(\"Insufficient funds.\")\n",
        "\n",
        "class SavingsAccount(Account):\n",
        "  def __init__(self, account_number, balance, interest_rate):\n",
        "    super().__init__(account_number, balance)\n",
        "    self.interest_rate = interest_rate\n",
        "\n",
        "  def apply_interest(self):\n",
        "    interest = self.balance * self.interest_rate\n",
        "    self.balance += interest\n",
        "\n",
        "savings_account = SavingsAccount(\"1234567890\", 1000, 0.05)\n",
        "\n",
        "savings_account.deposit(500)\n",
        "savings_account.withdraw(200)\n",
        "\n",
        "savings_account.apply_interest()\n",
        "\n",
        "print(\"Account Number:\", savings_account.account_number)\n",
        "print(\"Balance:\", savings_account.balance)\n"
      ],
      "metadata": {
        "colab": {
          "base_uri": "https://localhost:8080/"
        },
        "id": "M6kAYw4cGfuw",
        "outputId": "6292afd5-8a6e-4033-8f9b-53e43b0c545f"
      },
      "execution_count": 5,
      "outputs": [
        {
          "output_type": "stream",
          "name": "stdout",
          "text": [
            "Account Number: 1234567890\n",
            "Balance: 1365.0\n"
          ]
        }
      ]
    },
    {
      "cell_type": "markdown",
      "source": [
        "**Q6**"
      ],
      "metadata": {
        "id": "-MMwt2ZKIPjI"
      }
    },
    {
      "cell_type": "code",
      "source": [
        "class Employee:\n",
        "  def __init__(self, name, employee_id, salary):\n",
        "    self.name = name\n",
        "    self.employee_id = employee_id\n",
        "    self.salary = salary\n",
        "\n",
        "  def get_salary(self):\n",
        "    return self.salary\n",
        "\n",
        "class Manager(Employee):\n",
        "  def __init__(self, name, employee_id, salary, department):\n",
        "    super().__init__(name, employee_id, salary)\n",
        "    self.department = department\n",
        "\n",
        "  def display_department(self):\n",
        "    print(\"Department:\", self.department)\n",
        "\n",
        "manager = Manager(\"Eric\", \"M12345\", 60000, \"Data Engineer\")\n",
        "print(\"Salary:\", manager.get_salary())\n",
        "manager.display_department()"
      ],
      "metadata": {
        "colab": {
          "base_uri": "https://localhost:8080/"
        },
        "id": "N8XhUY4TGxjU",
        "outputId": "71ce15f1-b045-46cc-a019-d8d45dcbe7f4"
      },
      "execution_count": 6,
      "outputs": [
        {
          "output_type": "stream",
          "name": "stdout",
          "text": [
            "Salary: 60000\n",
            "Department: Data Engineer\n"
          ]
        }
      ]
    },
    {
      "cell_type": "markdown",
      "source": [
        "**Q7**"
      ],
      "metadata": {
        "id": "zPPTs0X8IRLz"
      }
    },
    {
      "cell_type": "code",
      "source": [
        "def filter_integers(mixed_list):\n",
        "  return [x for x in mixed_list if isinstance(x, int)]\n",
        "mixed_list = [1, \"apple\", 3, \"banana\", 2]\n",
        "integer_list = filter_integers(mixed_list)\n",
        "print(integer_list)"
      ],
      "metadata": {
        "colab": {
          "base_uri": "https://localhost:8080/"
        },
        "id": "U9KV8-Q8G2nr",
        "outputId": "ebf5e946-9901-4005-dab3-f7905f865eee"
      },
      "execution_count": 7,
      "outputs": [
        {
          "output_type": "stream",
          "name": "stdout",
          "text": [
            "[1, 3, 2]\n"
          ]
        }
      ]
    },
    {
      "cell_type": "markdown",
      "source": [
        "**Q8**"
      ],
      "metadata": {
        "id": "grO58HkfISpa"
      }
    },
    {
      "cell_type": "code",
      "source": [
        "def sort_descending(lst):\n",
        "  for i in range(len(lst)):\n",
        "    for j in range(i + 1, len(lst)):\n",
        "      if lst[i] < lst[j]:\n",
        "        lst[i], lst[j] = lst[j], lst[i]\n",
        "  return lst\n",
        "\n",
        "lst = [5, 2, 8, 1, 9]\n",
        "sorted_lst = sort_descending(lst)\n",
        "print(sorted_lst)"
      ],
      "metadata": {
        "colab": {
          "base_uri": "https://localhost:8080/"
        },
        "id": "fgvn5pIvHHXl",
        "outputId": "a2b66c47-8017-43f8-d304-1b54fbc88ada"
      },
      "execution_count": 8,
      "outputs": [
        {
          "output_type": "stream",
          "name": "stdout",
          "text": [
            "[9, 8, 5, 2, 1]\n"
          ]
        }
      ]
    },
    {
      "cell_type": "markdown",
      "source": [
        "**Q9**"
      ],
      "metadata": {
        "id": "QFIb_spaIUFC"
      }
    },
    {
      "cell_type": "code",
      "source": [
        "def flatten_list(nested_list):\n",
        "  flat_list = []\n",
        "  for sublist in nested_list:\n",
        "    for item in sublist:\n",
        "      flat_list.append(item)\n",
        "  return flat_list\n",
        "\n",
        "nested_list = [[1, 2, 3], [4, 5], [6]]\n",
        "flat_list = flatten_list(nested_list)\n",
        "print(flat_list)"
      ],
      "metadata": {
        "colab": {
          "base_uri": "https://localhost:8080/"
        },
        "id": "RFuKjlxiHX7K",
        "outputId": "e2b29731-e68b-47da-926d-b767202aa3d5"
      },
      "execution_count": 9,
      "outputs": [
        {
          "output_type": "stream",
          "name": "stdout",
          "text": [
            "[1, 2, 3, 4, 5, 6]\n"
          ]
        }
      ]
    },
    {
      "cell_type": "markdown",
      "source": [
        "**Q10**"
      ],
      "metadata": {
        "id": "Mm1zaojHIVOK"
      }
    },
    {
      "cell_type": "code",
      "source": [
        "def sort_dictionary_keys(input_dict):\n",
        "  sorted_dict = {}\n",
        "  for key in sorted(input_dict):\n",
        "    sorted_dict[key] = input_dict[key]\n",
        "  return sorted_dict\n",
        "\n",
        "my_dict = {'c': 3, 'a': 1, 'b': 2}\n",
        "sorted_dict = sort_dictionary_keys(my_dict)\n",
        "print(sorted_dict)"
      ],
      "metadata": {
        "colab": {
          "base_uri": "https://localhost:8080/"
        },
        "id": "Vt6dGbjgHYw-",
        "outputId": "d59e0879-353e-4226-d8db-80912de4804a"
      },
      "execution_count": 10,
      "outputs": [
        {
          "output_type": "stream",
          "name": "stdout",
          "text": [
            "{'a': 1, 'b': 2, 'c': 3}\n"
          ]
        }
      ]
    },
    {
      "cell_type": "markdown",
      "source": [
        "**Q11**"
      ],
      "metadata": {
        "id": "FucW2_v5IWfT"
      }
    },
    {
      "cell_type": "code",
      "source": [
        "def sum_list_values(input_dict):\n",
        "  summed_dict = {}\n",
        "  for key, value in input_dict.items():\n",
        "    summed_dict[key] = sum(value)\n",
        "  return summed_dict\n",
        "\n",
        "my_dict = {'a': [1, 2, 3], 'b': [4, 5], 'c': [6]}\n",
        "summed_dict = sum_list_values(my_dict)\n",
        "print(summed_dict)"
      ],
      "metadata": {
        "colab": {
          "base_uri": "https://localhost:8080/"
        },
        "id": "IJwAKDyLHmKD",
        "outputId": "cda4f56b-224f-46b0-8177-bf46816eb49f"
      },
      "execution_count": 11,
      "outputs": [
        {
          "output_type": "stream",
          "name": "stdout",
          "text": [
            "{'a': 6, 'b': 9, 'c': 6}\n"
          ]
        }
      ]
    },
    {
      "cell_type": "markdown",
      "source": [
        "**Q12**"
      ],
      "metadata": {
        "id": "fXKrOdwOIXlv"
      }
    },
    {
      "cell_type": "code",
      "source": [
        "def merge_dictionaries(dict1, dict2):\n",
        "  merged_dict = dict1.copy()\n",
        "  merged_dict.update(dict2)\n",
        "  return merged_dict\n",
        "\n",
        "dict1 = {'a': 1, 'b': 2}\n",
        "dict2 = {'b': 3, 'c': 4}\n",
        "merged_dict = merge_dictionaries(dict1, dict2)\n",
        "print(merged_dict)"
      ],
      "metadata": {
        "colab": {
          "base_uri": "https://localhost:8080/"
        },
        "id": "je_TOV66H8d4",
        "outputId": "d3d0e6f5-0360-4c8f-d543-1e2d51c38323"
      },
      "execution_count": 12,
      "outputs": [
        {
          "output_type": "stream",
          "name": "stdout",
          "text": [
            "{'a': 1, 'b': 3, 'c': 4}\n"
          ]
        }
      ]
    },
    {
      "cell_type": "code",
      "source": [],
      "metadata": {
        "id": "JA9ERZuhH-Oz"
      },
      "execution_count": 12,
      "outputs": []
    }
  ]
}